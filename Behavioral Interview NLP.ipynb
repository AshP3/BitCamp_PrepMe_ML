{
 "cells": [
  {
   "cell_type": "code",
   "execution_count": 50,
   "id": "5028fa6b",
   "metadata": {},
   "outputs": [
    {
     "data": {
      "text/plain": [
       "array([\"I cannot say I've received much criticism.  I'm a honest employee and value my work.\",\n",
       "       \"I have a proven track record as an achiever\\x85many of your achievements match\\xa0up with the employer's greatest wants and needs.\\xa0\",\n",
       "       'You\\xa0 know, I really can\\x92t think of anything. I would add that as a\\xa0 general management principle, I\\x92ve found that the best way to avoid regrets is to avoid\\xa0 causing them in the first place.',\n",
       "       \"I don't have a specific role model, but I did admire my high school basketball coach.\",\n",
       "       'I practice one habit that helps me a great deal in this\\xa0 regard. At the end of each day, I mentally review the day\\x92s events and conversations to\\xa0 take a second look at the people and developments I\\x92m involved with',\n",
       "       'No way. I need weekends to myself as a personal boundary.',\n",
       "       'From my side, there are strong benefits, as well. Right now, I am unemployed. I want\\xa0 to work, very much, and the position you have here is exactly what I love to do and am\\xa0 best at. I\\x92ll be happy doing this work and that\\x92s what matters most to me, a lot more that\\xa0 money or title.',\n",
       "       \"In my experience, I've fired plenty. I'm not afraid to let someone go if they don't meet the company standards.\",\n",
       "       'Keep this answer, like all your answers, positive. A good way to\\xa0 answer this question is to identify a cutting-edge branch of your profession (one that\\x92s\\xa0 not essential to your employer\\x92s needs) as an area you\\x92re very excited about and want to\\xa0 explore more fully over the next six months.',\n",
       "       'One thing I wouldn\\x92t do is let the problem slide, because it would only get\\xa0 worse and overlooking it would set a bad precedent. I would try again and again and\\xa0 again, in whatever way I could, to solve the problem, involving wider and wider circles of\\xa0 people, both above and below the offending executive and including my own boss if\\xa0 necessary, so that everyone involved can see the rewards for teamwork and the\\xa0 drawbacks of non-cooperation.',\n",
       "       'I would say doing science fair in school was tough. I struggled in the subject and could never understand the analysis. I can admit my weaknesses and science is one of them.',\n",
       "       'If pressed to expand your answer, you\\xa0 could describe the aspects of the position you enjoyed more than others, making sure\\xa0 that you express maximum enjoyment for those tasks most important to the open\\xa0 position, and you enjoyed least those tasks that are unimportant to the position at hand.',\n",
       "       'As to how I would measure up to that definition, I would consider myself both successful\\xa0 and fortunate\\x85',\n",
       "       \"I am not willing to relocate for a job. I'm not comfortable moving to a new, unfamiliar place.\",\n",
       "       'If I had not taken up my first job in customer service, I could have achieved more. I only learned harsh truths about how rude people can be and wasted my potential.  ',\n",
       "       \"I would like to become a software developer working on websites. I'm open to different fields, not any specific track.\",\n",
       "       'In my life, I\\x92ve found out that you can always turn a negative into a positive IF you try hard enough. This is what I determined to do. I decided to take whatever time I needed to think through what I do best, what I most want to do, where I\\x92d like to do it\\x85and then identify those companies that could offer such an opportunity.',\n",
       "       \"Hey, some of my best friends are considered a minority and I don't think of them any different.\",\n",
       "       '\\x93I certainly want to be as open as I can about that. But I also wish to respect the rights of those who have trusted me with their most sensitive information, just as you would hope to be able to trust any of your key people when talking with a competitor'],\n",
       "      dtype=object)"
      ]
     },
     "execution_count": 50,
     "metadata": {},
     "output_type": "execute_result"
    }
   ],
   "source": [
    "import numpy as np\n",
    "import pandas as pd\n",
    "import re\n",
    "import nltk\n",
    "\n",
    "behavioral_qs = pd.read_csv('Behavioral_questions.csv', encoding= 'unicode_escape')\n",
    "features = behavioral_qs.iloc[:, 2].values\n",
    "labels = behavioral_qs.iloc[:, 1].values\n",
    "features"
   ]
  },
  {
   "cell_type": "code",
   "execution_count": 51,
   "id": "8f4824c1",
   "metadata": {},
   "outputs": [
    {
     "data": {
      "text/plain": [
       "[' cannot say ve received much criticism honest employee and value my work ',\n",
       " ' have proven track record as an achiever many of your achievements match up with the employer greatest wants and needs ',\n",
       " 'you know really can think of anything would add that as general management principle ve found that the best way to avoid regrets is to avoid causing them in the first place ',\n",
       " ' don have specific role model but did admire my high school basketball coach ',\n",
       " ' practice one habit that helps me great deal in this regard at the end of each day mentally review the day events and conversations to take second look at the people and developments involved with',\n",
       " 'no way need weekends to myself as personal boundary ',\n",
       " 'from my side there are strong benefits as well right now am unemployed want to work very much and the position you have here is exactly what love to do and am best at ll be happy doing this work and that what matters most to me lot more that money or title ',\n",
       " 'in my experience ve fired plenty not afraid to let someone go if they don meet the company standards ',\n",
       " 'keep this answer like all your answers positive good way to answer this question is to identify cutting edge branch of your profession one that not essential to your employer needs as an area you re very excited about and want to explore more fully over the next six months ',\n",
       " 'one thing wouldn do is let the problem slide because it would only get worse and overlooking it would set bad precedent would try again and again and again in whatever way could to solve the problem involving wider and wider circles of people both above and below the offending executive and including my own boss if necessary so that everyone involved can see the rewards for teamwork and the drawbacks of non cooperation ',\n",
       " ' would say doing science fair in school was tough struggled in the subject and could never understand the analysis can admit my weaknesses and science is one of them ',\n",
       " 'if pressed to expand your answer you could describe the aspects of the position you enjoyed more than others making sure that you express maximum enjoyment for those tasks most important to the open position and you enjoyed least those tasks that are unimportant to the position at hand ',\n",
       " 'as to how would measure up to that definition would consider myself both successful and fortunate ',\n",
       " ' am not willing to relocate for job not comfortable moving to new unfamiliar place ',\n",
       " 'if had not taken up my first job in customer service could have achieved more only learned harsh truths about how rude people can be and wasted my potential ',\n",
       " ' would like to become software developer working on websites open to different fields not any specific track ',\n",
       " 'in my life ve found out that you can always turn negative into positive if you try hard enough this is what determined to do decided to take whatever time needed to think through what do best what most want to do where like to do it and then identify those companies that could offer such an opportunity ',\n",
       " 'hey some of my best friends are considered minority and don think of them any different ',\n",
       " ' certainly want to be as open as can about that but also wish to respect the rights of those who have trusted me with their most sensitive information just as you would hope to be able to trust any of your key people when talking with competitor']"
      ]
     },
     "execution_count": 51,
     "metadata": {},
     "output_type": "execute_result"
    }
   ],
   "source": [
    "processed_features = []\n",
    "\n",
    "for sentence in range(0, len(features)):\n",
    "    # Remove all the special characters\n",
    "    processed_feature = re.sub(r'\\W', ' ', str(features[sentence])) \n",
    "\n",
    "    # Substituting multiple spaces with single space\n",
    "    processed_feature = re.sub(r'\\s+', ' ', processed_feature, flags=re.I)\n",
    "    \n",
    "    # remove all single characters\n",
    "    processed_feature = re.sub(r'(?:^| )\\w(?:$| )', ' ', processed_feature)\n",
    "    processed_feature = re.sub(r'(?:^| )\\w(?:$| )', ' ', processed_feature)\n",
    "\n",
    "    # Converting to Lowercase\n",
    "    processed_feature = processed_feature.lower()\n",
    "\n",
    "    processed_features.append(processed_feature)\n",
    "    \n",
    "processed_features"
   ]
  },
  {
   "cell_type": "code",
   "execution_count": 52,
   "id": "1ff69a62",
   "metadata": {},
   "outputs": [
    {
     "data": {
      "text/plain": [
       "array([[0.        , 0.        , 0.        , ..., 0.        , 0.48227107,\n",
       "        0.        ],\n",
       "       [0.        , 0.        , 0.        , ..., 0.        , 0.        ,\n",
       "        0.        ],\n",
       "       [0.        , 0.59333137, 0.21435683, ..., 0.        , 0.        ,\n",
       "        0.18413209],\n",
       "       ...,\n",
       "       [0.        , 0.        , 0.21442293, ..., 0.        , 0.        ,\n",
       "        0.        ],\n",
       "       [0.        , 0.        , 0.52201548, ..., 0.        , 0.        ,\n",
       "        0.        ],\n",
       "       [0.        , 0.        , 0.        , ..., 0.        , 0.        ,\n",
       "        0.4331065 ]])"
      ]
     },
     "execution_count": 52,
     "metadata": {},
     "output_type": "execute_result"
    }
   ],
   "source": [
    "from nltk.corpus import stopwords\n",
    "from sklearn.feature_extraction.text import TfidfVectorizer\n",
    "\n",
    "vectorizer = TfidfVectorizer(max_features=70, min_df=0.05, stop_words=stopwords.words('english'))\n",
    "processed_features = vectorizer.fit_transform(processed_features).toarray()\n",
    "processed_features"
   ]
  },
  {
   "cell_type": "code",
   "execution_count": 53,
   "id": "0d4403bd",
   "metadata": {},
   "outputs": [
    {
     "name": "stdout",
     "output_type": "stream",
     "text": [
      "vocabulary:  {'say': 55, 'received': 50, 'much': 17, 'work': 68, 'proven': 47, 'track': 62, 'record': 51, 'employer': 6, 'needs': 21, 'really': 49, 'think': 61, 'would': 69, 'principle': 44, 'found': 9, 'best': 2, 'way': 65, 'avoid': 1, 'regrets': 53, 'first': 8, 'place': 36, 'specific': 58, 'school': 56, 'practice': 41, 'one': 29, 'regard': 52, 'day': 4, 'take': 59, 'people': 34, 'involved': 11, 'need': 19, 'personal': 35, 'want': 64, 'position': 38, 'plenty': 37, 'let': 13, 'answer': 0, 'like': 14, 'positive': 39, 'question': 48, 'identify': 10, 'profession': 46, 'next': 25, 'months': 15, 'problem': 45, 'overlooking': 33, 'precedent': 42, 'try': 63, 'whatever': 66, 'could': 3, 'wider': 67, 'offending': 27, 'necessary': 18, 'non': 26, 'science': 57, 'never': 23, 'pressed': 43, 'enjoyed': 7, 'others': 32, 'tasks': 60, 'open': 30, 'relocate': 54, 'job': 12, 'moving': 16, 'new': 24, 'potential': 40, 'different': 5, 'negative': 22, 'needed': 20, 'offer': 28, 'opportunity': 31}\n"
     ]
    }
   ],
   "source": [
    "print('vocabulary: ', vectorizer.vocabulary_)"
   ]
  },
  {
   "cell_type": "code",
   "execution_count": 54,
   "id": "45ed19cf",
   "metadata": {},
   "outputs": [
    {
     "name": "stdout",
     "output_type": "stream",
     "text": [
      "0.8333333333333334\n"
     ]
    }
   ],
   "source": [
    "from sklearn.model_selection import train_test_split\n",
    "from sklearn.ensemble import RandomForestClassifier\n",
    "\n",
    "X_train, X_test, y_train, y_test = train_test_split(processed_features, labels, test_size=0.3, random_state=0)\n",
    "model = RandomForestClassifier(max_depth=8, random_state=0)\n",
    "model.fit(X_train, y_train)\n",
    "score = model.score(X_test, y_test)\n",
    "print(score)\n"
   ]
  },
  {
   "cell_type": "code",
   "execution_count": 55,
   "id": "a62962fd",
   "metadata": {},
   "outputs": [
    {
     "data": {
      "text/plain": [
       "array([1], dtype=int64)"
      ]
     },
     "execution_count": 55,
     "metadata": {},
     "output_type": "execute_result"
    }
   ],
   "source": [
    "# User test 1 - good response\n",
    "user_test = vectorizer.transform(['My whole management approach is to hire the best people I can find, train them thoroughly and well, get them excited and proud to be part of our team, and then work with them to achieve our goals together. If you do all of that right, especially hiring the right people, I’ve found you don’t have to fire very often. So with me, firing is a last resort. But when it’s got to be done, it’s got to be done, and the faster and cleaner, the better.']).toarray()\n",
    "model.predict(user_test)"
   ]
  },
  {
   "cell_type": "code",
   "execution_count": 56,
   "id": "3a49a8be",
   "metadata": {},
   "outputs": [
    {
     "data": {
      "text/plain": [
       "array([0], dtype=int64)"
      ]
     },
     "execution_count": 56,
     "metadata": {},
     "output_type": "execute_result"
    }
   ],
   "source": [
    "# User test 2 - bad response\n",
    "user_test2 = vectorizer.transform(['I\\'m unsure on what I want to do yet in the industry, but I\\'m open to trying new things.']).toarray()\n",
    "model.predict(user_test2)"
   ]
  },
  {
   "cell_type": "code",
   "execution_count": 57,
   "id": "684d99a2",
   "metadata": {},
   "outputs": [
    {
     "name": "stdout",
     "output_type": "stream",
     "text": [
      "Interview Question: What would you say to your boss if he/she is passionate about an idea, but you think it is a bad one?\n",
      "\n",
      "My goal in this case would be to see if my boss and I could make his idea even stronger and more appealing, so that it effectively overcomes any initial reservation I or others may have about it.\n",
      "\n",
      "Great response! You've earned 5 behavioral points!\n",
      "After considering your word choice, you gained a total of 5 points.\n"
     ]
    }
   ],
   "source": [
    "# Full user interaction simulation:\n",
    "points = 0\n",
    "user_input = input(\"Interview Question: What would you say to your boss if he/she is passionate about an idea, but you think it is a bad one?\\n\\n\")\n",
    "input_vectors = vectorizer.transform([user_input]).toarray()\n",
    "rating = model.predict(input_vectors)\n",
    "\n",
    "if rating[0] == 1:\n",
    "    points += 5\n",
    "    print(\"\\nGreat response! You've earned 5 behavioral points!\")\n",
    "else:\n",
    "    print(\"\\nThere's some room for improvement.\")\n",
    "\n",
    "for word in user_input:\n",
    "    # keywords selected from generated vocabulary above\n",
    "    if word in [\"received\", \"practice\", \"enjoyed\", \"positive\", \"necessary\", \"potential\", \"opportunity\", \"offer\", \"tasks\", \"profession\", \"people\", \"involved\", \"principle\", \"position\", \"found\"]:\n",
    "        # bonus points\n",
    "        points += 1\n",
    "print(\"After considering your word choice, you gained a total of\", points, \"points.\")\n",
    "\n",
    "# Example of a good response: My goal in this case would be to see if my boss and I could make his idea even stronger \n",
    "# and more appealing, so that it effectively overcomes any initial reservation I or others may have about it."
   ]
  }
 ],
 "metadata": {
  "kernelspec": {
   "display_name": "Python 3 (ipykernel)",
   "language": "python",
   "name": "python3"
  },
  "language_info": {
   "codemirror_mode": {
    "name": "ipython",
    "version": 3
   },
   "file_extension": ".py",
   "mimetype": "text/x-python",
   "name": "python",
   "nbconvert_exporter": "python",
   "pygments_lexer": "ipython3",
   "version": "3.9.12"
  }
 },
 "nbformat": 4,
 "nbformat_minor": 5
}
